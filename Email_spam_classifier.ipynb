{
 "cells": [
  {
   "cell_type": "code",
   "execution_count": 1,
   "id": "890af67f-533a-4c67-87db-dd2607c244a4",
   "metadata": {},
   "outputs": [],
   "source": [
    "import pandas as pd \n",
    "import numpy as np\n",
    "import matplotlib.pyplot as plt\n",
    "import seaborn as sns"
   ]
  },
  {
   "cell_type": "code",
   "execution_count": 2,
   "id": "0b2be28f-3f68-4d6b-ae06-852f7e9cf0f3",
   "metadata": {},
   "outputs": [
    {
     "data": {
      "text/html": [
       "<div>\n",
       "<style scoped>\n",
       "    .dataframe tbody tr th:only-of-type {\n",
       "        vertical-align: middle;\n",
       "    }\n",
       "\n",
       "    .dataframe tbody tr th {\n",
       "        vertical-align: top;\n",
       "    }\n",
       "\n",
       "    .dataframe thead th {\n",
       "        text-align: right;\n",
       "    }\n",
       "</style>\n",
       "<table border=\"1\" class=\"dataframe\">\n",
       "  <thead>\n",
       "    <tr style=\"text-align: right;\">\n",
       "      <th></th>\n",
       "      <th>v1</th>\n",
       "      <th>v2</th>\n",
       "      <th>Unnamed: 2</th>\n",
       "      <th>Unnamed: 3</th>\n",
       "      <th>Unnamed: 4</th>\n",
       "    </tr>\n",
       "  </thead>\n",
       "  <tbody>\n",
       "    <tr>\n",
       "      <th>0</th>\n",
       "      <td>ham</td>\n",
       "      <td>Go until jurong point, crazy.. Available only ...</td>\n",
       "      <td>NaN</td>\n",
       "      <td>NaN</td>\n",
       "      <td>NaN</td>\n",
       "    </tr>\n",
       "    <tr>\n",
       "      <th>1</th>\n",
       "      <td>ham</td>\n",
       "      <td>Ok lar... Joking wif u oni...</td>\n",
       "      <td>NaN</td>\n",
       "      <td>NaN</td>\n",
       "      <td>NaN</td>\n",
       "    </tr>\n",
       "    <tr>\n",
       "      <th>2</th>\n",
       "      <td>spam</td>\n",
       "      <td>Free entry in 2 a wkly comp to win FA Cup fina...</td>\n",
       "      <td>NaN</td>\n",
       "      <td>NaN</td>\n",
       "      <td>NaN</td>\n",
       "    </tr>\n",
       "    <tr>\n",
       "      <th>3</th>\n",
       "      <td>ham</td>\n",
       "      <td>U dun say so early hor... U c already then say...</td>\n",
       "      <td>NaN</td>\n",
       "      <td>NaN</td>\n",
       "      <td>NaN</td>\n",
       "    </tr>\n",
       "    <tr>\n",
       "      <th>4</th>\n",
       "      <td>ham</td>\n",
       "      <td>Nah I don't think he goes to usf, he lives aro...</td>\n",
       "      <td>NaN</td>\n",
       "      <td>NaN</td>\n",
       "      <td>NaN</td>\n",
       "    </tr>\n",
       "  </tbody>\n",
       "</table>\n",
       "</div>"
      ],
      "text/plain": [
       "     v1                                                 v2 Unnamed: 2  \\\n",
       "0   ham  Go until jurong point, crazy.. Available only ...        NaN   \n",
       "1   ham                      Ok lar... Joking wif u oni...        NaN   \n",
       "2  spam  Free entry in 2 a wkly comp to win FA Cup fina...        NaN   \n",
       "3   ham  U dun say so early hor... U c already then say...        NaN   \n",
       "4   ham  Nah I don't think he goes to usf, he lives aro...        NaN   \n",
       "\n",
       "  Unnamed: 3 Unnamed: 4  \n",
       "0        NaN        NaN  \n",
       "1        NaN        NaN  \n",
       "2        NaN        NaN  \n",
       "3        NaN        NaN  \n",
       "4        NaN        NaN  "
      ]
     },
     "execution_count": 2,
     "metadata": {},
     "output_type": "execute_result"
    }
   ],
   "source": [
    "df=pd.read_csv('spam.csv',encoding='Windows-1252')\n",
    "df.head()"
   ]
  },
  {
   "cell_type": "markdown",
   "id": "437ee519-0cc2-412d-8e71-d9a8cfbf4e56",
   "metadata": {},
   "source": [
    "Cleaning the df"
   ]
  },
  {
   "cell_type": "code",
   "execution_count": 4,
   "id": "1a046c5f-275c-4909-85c3-7163ed289e8c",
   "metadata": {},
   "outputs": [
    {
     "name": "stdout",
     "output_type": "stream",
     "text": [
      "(5572, 5)\n"
     ]
    },
    {
     "data": {
      "text/plain": [
       "v1               0\n",
       "v2               0\n",
       "Unnamed: 2    5522\n",
       "Unnamed: 3    5560\n",
       "Unnamed: 4    5566\n",
       "dtype: int64"
      ]
     },
     "execution_count": 4,
     "metadata": {},
     "output_type": "execute_result"
    }
   ],
   "source": [
    "print(df.shape)\n",
    "df.isna().sum()"
   ]
  },
  {
   "cell_type": "code",
   "execution_count": 5,
   "id": "b1c6f4b0-830d-465f-ac06-f0219bf4f2dd",
   "metadata": {},
   "outputs": [
    {
     "data": {
      "text/html": [
       "<div>\n",
       "<style scoped>\n",
       "    .dataframe tbody tr th:only-of-type {\n",
       "        vertical-align: middle;\n",
       "    }\n",
       "\n",
       "    .dataframe tbody tr th {\n",
       "        vertical-align: top;\n",
       "    }\n",
       "\n",
       "    .dataframe thead th {\n",
       "        text-align: right;\n",
       "    }\n",
       "</style>\n",
       "<table border=\"1\" class=\"dataframe\">\n",
       "  <thead>\n",
       "    <tr style=\"text-align: right;\">\n",
       "      <th></th>\n",
       "      <th>Target</th>\n",
       "      <th>Text</th>\n",
       "    </tr>\n",
       "  </thead>\n",
       "  <tbody>\n",
       "    <tr>\n",
       "      <th>0</th>\n",
       "      <td>ham</td>\n",
       "      <td>Go until jurong point, crazy.. Available only ...</td>\n",
       "    </tr>\n",
       "    <tr>\n",
       "      <th>1</th>\n",
       "      <td>ham</td>\n",
       "      <td>Ok lar... Joking wif u oni...</td>\n",
       "    </tr>\n",
       "    <tr>\n",
       "      <th>2</th>\n",
       "      <td>spam</td>\n",
       "      <td>Free entry in 2 a wkly comp to win FA Cup fina...</td>\n",
       "    </tr>\n",
       "    <tr>\n",
       "      <th>3</th>\n",
       "      <td>ham</td>\n",
       "      <td>U dun say so early hor... U c already then say...</td>\n",
       "    </tr>\n",
       "    <tr>\n",
       "      <th>4</th>\n",
       "      <td>ham</td>\n",
       "      <td>Nah I don't think he goes to usf, he lives aro...</td>\n",
       "    </tr>\n",
       "  </tbody>\n",
       "</table>\n",
       "</div>"
      ],
      "text/plain": [
       "  Target                                               Text\n",
       "0    ham  Go until jurong point, crazy.. Available only ...\n",
       "1    ham                      Ok lar... Joking wif u oni...\n",
       "2   spam  Free entry in 2 a wkly comp to win FA Cup fina...\n",
       "3    ham  U dun say so early hor... U c already then say...\n",
       "4    ham  Nah I don't think he goes to usf, he lives aro..."
      ]
     },
     "execution_count": 5,
     "metadata": {},
     "output_type": "execute_result"
    }
   ],
   "source": [
    "df=df.drop(['Unnamed: 2','Unnamed: 3','Unnamed: 4'],axis=1)\n",
    "df=df.rename(columns={'v1':'Target','v2':'Text'})\n",
    "df.head()"
   ]
  },
  {
   "cell_type": "code",
   "execution_count": 6,
   "id": "9b52fe49-9ab2-4a1a-bd8c-8f1e6fcc37da",
   "metadata": {},
   "outputs": [
    {
     "data": {
      "text/plain": [
       "403"
      ]
     },
     "execution_count": 6,
     "metadata": {},
     "output_type": "execute_result"
    }
   ],
   "source": [
    "df.duplicated().sum()"
   ]
  },
  {
   "cell_type": "code",
   "execution_count": 7,
   "id": "9ef77eba-c74b-437d-b6cb-c205416b867b",
   "metadata": {},
   "outputs": [
    {
     "data": {
      "text/plain": [
       "0"
      ]
     },
     "execution_count": 7,
     "metadata": {},
     "output_type": "execute_result"
    }
   ],
   "source": [
    "df.drop_duplicates(inplace=True)\n",
    "df.duplicated().sum()"
   ]
  },
  {
   "cell_type": "code",
   "execution_count": 8,
   "id": "136ec2eb-0dda-4596-950f-7ce8f494cd57",
   "metadata": {},
   "outputs": [
    {
     "data": {
      "text/html": [
       "<div>\n",
       "<style scoped>\n",
       "    .dataframe tbody tr th:only-of-type {\n",
       "        vertical-align: middle;\n",
       "    }\n",
       "\n",
       "    .dataframe tbody tr th {\n",
       "        vertical-align: top;\n",
       "    }\n",
       "\n",
       "    .dataframe thead th {\n",
       "        text-align: right;\n",
       "    }\n",
       "</style>\n",
       "<table border=\"1\" class=\"dataframe\">\n",
       "  <thead>\n",
       "    <tr style=\"text-align: right;\">\n",
       "      <th></th>\n",
       "      <th>Target</th>\n",
       "      <th>Text</th>\n",
       "    </tr>\n",
       "  </thead>\n",
       "  <tbody>\n",
       "    <tr>\n",
       "      <th>0</th>\n",
       "      <td>0</td>\n",
       "      <td>Go until jurong point, crazy.. Available only ...</td>\n",
       "    </tr>\n",
       "    <tr>\n",
       "      <th>1</th>\n",
       "      <td>0</td>\n",
       "      <td>Ok lar... Joking wif u oni...</td>\n",
       "    </tr>\n",
       "    <tr>\n",
       "      <th>2</th>\n",
       "      <td>1</td>\n",
       "      <td>Free entry in 2 a wkly comp to win FA Cup fina...</td>\n",
       "    </tr>\n",
       "    <tr>\n",
       "      <th>3</th>\n",
       "      <td>0</td>\n",
       "      <td>U dun say so early hor... U c already then say...</td>\n",
       "    </tr>\n",
       "    <tr>\n",
       "      <th>4</th>\n",
       "      <td>0</td>\n",
       "      <td>Nah I don't think he goes to usf, he lives aro...</td>\n",
       "    </tr>\n",
       "  </tbody>\n",
       "</table>\n",
       "</div>"
      ],
      "text/plain": [
       "   Target                                               Text\n",
       "0       0  Go until jurong point, crazy.. Available only ...\n",
       "1       0                      Ok lar... Joking wif u oni...\n",
       "2       1  Free entry in 2 a wkly comp to win FA Cup fina...\n",
       "3       0  U dun say so early hor... U c already then say...\n",
       "4       0  Nah I don't think he goes to usf, he lives aro..."
      ]
     },
     "execution_count": 8,
     "metadata": {},
     "output_type": "execute_result"
    }
   ],
   "source": [
    "df['Target']=df['Target'].map({'ham':0,'spam':1})\n",
    "df.head()"
   ]
  },
  {
   "cell_type": "markdown",
   "id": "b0ef309b-077c-4218-b662-a5f9a6eb8a53",
   "metadata": {},
   "source": [
    "EDA\n"
   ]
  },
  {
   "cell_type": "code",
   "execution_count": 10,
   "id": "53d9a4b2-accc-4e72-a6ed-1d0a9b6133a5",
   "metadata": {},
   "outputs": [
    {
     "data": {
      "text/html": [
       "<div>\n",
       "<style scoped>\n",
       "    .dataframe tbody tr th:only-of-type {\n",
       "        vertical-align: middle;\n",
       "    }\n",
       "\n",
       "    .dataframe tbody tr th {\n",
       "        vertical-align: top;\n",
       "    }\n",
       "\n",
       "    .dataframe thead th {\n",
       "        text-align: right;\n",
       "    }\n",
       "</style>\n",
       "<table border=\"1\" class=\"dataframe\">\n",
       "  <thead>\n",
       "    <tr style=\"text-align: right;\">\n",
       "      <th></th>\n",
       "      <th>Target</th>\n",
       "      <th>Text</th>\n",
       "      <th>num_chars</th>\n",
       "      <th>num_words</th>\n",
       "      <th>num_sentences</th>\n",
       "    </tr>\n",
       "  </thead>\n",
       "  <tbody>\n",
       "    <tr>\n",
       "      <th>0</th>\n",
       "      <td>0</td>\n",
       "      <td>Go until jurong point, crazy.. Available only ...</td>\n",
       "      <td>111</td>\n",
       "      <td>24</td>\n",
       "      <td>2</td>\n",
       "    </tr>\n",
       "    <tr>\n",
       "      <th>1</th>\n",
       "      <td>0</td>\n",
       "      <td>Ok lar... Joking wif u oni...</td>\n",
       "      <td>29</td>\n",
       "      <td>8</td>\n",
       "      <td>2</td>\n",
       "    </tr>\n",
       "    <tr>\n",
       "      <th>2</th>\n",
       "      <td>1</td>\n",
       "      <td>Free entry in 2 a wkly comp to win FA Cup fina...</td>\n",
       "      <td>155</td>\n",
       "      <td>37</td>\n",
       "      <td>2</td>\n",
       "    </tr>\n",
       "    <tr>\n",
       "      <th>3</th>\n",
       "      <td>0</td>\n",
       "      <td>U dun say so early hor... U c already then say...</td>\n",
       "      <td>49</td>\n",
       "      <td>13</td>\n",
       "      <td>1</td>\n",
       "    </tr>\n",
       "    <tr>\n",
       "      <th>4</th>\n",
       "      <td>0</td>\n",
       "      <td>Nah I don't think he goes to usf, he lives aro...</td>\n",
       "      <td>61</td>\n",
       "      <td>15</td>\n",
       "      <td>1</td>\n",
       "    </tr>\n",
       "  </tbody>\n",
       "</table>\n",
       "</div>"
      ],
      "text/plain": [
       "   Target                                               Text  num_chars  \\\n",
       "0       0  Go until jurong point, crazy.. Available only ...        111   \n",
       "1       0                      Ok lar... Joking wif u oni...         29   \n",
       "2       1  Free entry in 2 a wkly comp to win FA Cup fina...        155   \n",
       "3       0  U dun say so early hor... U c already then say...         49   \n",
       "4       0  Nah I don't think he goes to usf, he lives aro...         61   \n",
       "\n",
       "   num_words  num_sentences  \n",
       "0         24              2  \n",
       "1          8              2  \n",
       "2         37              2  \n",
       "3         13              1  \n",
       "4         15              1  "
      ]
     },
     "execution_count": 10,
     "metadata": {},
     "output_type": "execute_result"
    }
   ],
   "source": [
    "import nltk\n",
    "\n",
    "df['num_chars']=df['Text'].apply(len)\n",
    "df['num_words']=df['Text'].apply(lambda x: len(nltk.word_tokenize(x)))\n",
    "df['num_sentences']=df['Text'].apply(lambda x: len(nltk.sent_tokenize(x)))\n",
    "df.head()"
   ]
  },
  {
   "cell_type": "code",
   "execution_count": 11,
   "id": "e2643004-b906-4a34-a8da-469fceff5ce4",
   "metadata": {},
   "outputs": [
    {
     "data": {
      "image/png": "[encoded data removed]",
      "text/plain": [
       "<Figure size 640x480 with 1 Axes>"
      ]
     },
     "metadata": {},
     "output_type": "display_data"
    }
   ],
   "source": [
    "sns.histplot(df[df['Target']==0]['num_words'],label='Ham')\n",
    "sns.histplot(df[df['Target']==1]['num_words'],label='Spam')\n",
    "plt.legend()\n",
    "plt.show()"
   ]
  },
  {
   "cell_type": "code",
   "execution_count": 12,
   "id": "24819e18-bec2-4656-a4a5-87eb83dcddad",
   "metadata": {},
   "outputs": [
    {
     "data": {
      "text/html": [
       "<div>\n",
       "<style scoped>\n",
       "    .dataframe tbody tr th:only-of-type {\n",
       "        vertical-align: middle;\n",
       "    }\n",
       "\n",
       "    .dataframe tbody tr th {\n",
       "        vertical-align: top;\n",
       "    }\n",
       "\n",
       "    .dataframe thead th {\n",
       "        text-align: right;\n",
       "    }\n",
       "</style>\n",
       "<table border=\"1\" class=\"dataframe\">\n",
       "  <thead>\n",
       "    <tr style=\"text-align: right;\">\n",
       "      <th></th>\n",
       "      <th>Target</th>\n",
       "      <th>num_chars</th>\n",
       "      <th>num_words</th>\n",
       "      <th>num_sentences</th>\n",
       "    </tr>\n",
       "  </thead>\n",
       "  <tbody>\n",
       "    <tr>\n",
       "      <th>Target</th>\n",
       "      <td>1.000000</td>\n",
       "      <td>0.384717</td>\n",
       "      <td>0.262912</td>\n",
       "      <td>0.263939</td>\n",
       "    </tr>\n",
       "    <tr>\n",
       "      <th>num_chars</th>\n",
       "      <td>0.384717</td>\n",
       "      <td>1.000000</td>\n",
       "      <td>0.965760</td>\n",
       "      <td>0.624139</td>\n",
       "    </tr>\n",
       "    <tr>\n",
       "      <th>num_words</th>\n",
       "      <td>0.262912</td>\n",
       "      <td>0.965760</td>\n",
       "      <td>1.000000</td>\n",
       "      <td>0.679971</td>\n",
       "    </tr>\n",
       "    <tr>\n",
       "      <th>num_sentences</th>\n",
       "      <td>0.263939</td>\n",
       "      <td>0.624139</td>\n",
       "      <td>0.679971</td>\n",
       "      <td>1.000000</td>\n",
       "    </tr>\n",
       "  </tbody>\n",
       "</table>\n",
       "</div>"
      ],
      "text/plain": [
       "                 Target  num_chars  num_words  num_sentences\n",
       "Target         1.000000   0.384717   0.262912       0.263939\n",
       "num_chars      0.384717   1.000000   0.965760       0.624139\n",
       "num_words      0.262912   0.965760   1.000000       0.679971\n",
       "num_sentences  0.263939   0.624139   0.679971       1.000000"
      ]
     },
     "execution_count": 12,
     "metadata": {},
     "output_type": "execute_result"
    }
   ],
   "source": [
    "df[['Target','num_chars','num_words','num_sentences']].corr()"
   ]
  },
  {
   "cell_type": "code",
   "execution_count": 13,
   "id": "babc059d-7ce3-4d0b-8b8b-3e05a190d48b",
   "metadata": {},
   "outputs": [],
   "source": [
    "from nltk.corpus import stopwords\n",
    "import string\n",
    "from nltk.stem.porter import PorterStemmer"
   ]
  },
  {
   "cell_type": "code",
   "execution_count": 14,
   "id": "1c013c5a-7e36-4218-9a21-b05ab93f6609",
   "metadata": {},
   "outputs": [],
   "source": [
    "def transform_text(text):\n",
    "    \n",
    "    text=text.lower()\n",
    "    text=nltk.word_tokenize(text)\n",
    "    y=[]\n",
    "    for i in text:\n",
    "        if i.isalnum():\n",
    "            y.append(i)\n",
    "    text=y[:]\n",
    "    y.clear()\n",
    "    for i in text:\n",
    "        if i not in stopwords.words('english') and i not in string.punctuation:\n",
    "            y.append(i)\n",
    "            \n",
    "    y=list(map(lambda x:PorterStemmer().stem(x),y))\n",
    "    y=\" \".join(y)\n",
    "    return y   "
   ]
  },
  {
   "cell_type": "code",
   "execution_count": 15,
   "id": "3cabe5c7-1816-404b-a13e-16e51511ee3c",
   "metadata": {},
   "outputs": [
    {
     "name": "stdout",
     "output_type": "stream",
     "text": [
      "0       go jurong point crazi avail bugi n great world...\n",
      "1                                   ok lar joke wif u oni\n",
      "2       free entri 2 wkli comp win fa cup final tkt 21...\n",
      "3                     u dun say earli hor u c alreadi say\n",
      "4                    nah think goe usf live around though\n",
      "                              ...                        \n",
      "5567    2nd time tri 2 contact u pound prize 2 claim e...\n",
      "5568                                b go esplanad fr home\n",
      "5569                                    piti mood suggest\n",
      "5570    guy bitch act like interest buy someth els nex...\n",
      "5571                                       rofl true name\n",
      "Name: Text, Length: 5169, dtype: object\n"
     ]
    }
   ],
   "source": [
    "df['Text']=df['Text'].map(lambda x: transform_text(x))\n",
    "print(df['Text'])"
   ]
  },
  {
   "cell_type": "code",
   "execution_count": 98,
   "id": "7fd37168-8ee8-4b60-8dc6-7f8ab0510a79",
   "metadata": {},
   "outputs": [],
   "source": [
    "from sklearn.feature_extraction.text import CountVectorizer,TfidfVectorizer\n",
    "cv=CountVectorizer()\n",
    "tfid=TfidfVectorizer(max_features=400)"
   ]
  },
  {
   "cell_type": "code",
   "execution_count": 100,
   "id": "f4a1c4c3-3515-47bd-b079-b18b44211ae8",
   "metadata": {},
   "outputs": [],
   "source": [
    "X=cv.fit_transform(df['Text']).toarray()\n",
    "X_=tfid.fit_transform(df['Text']).toarray()"
   ]
  },
  {
   "cell_type": "code",
   "execution_count": 101,
   "id": "123bb767-49d7-4819-88c2-51da6df776db",
   "metadata": {},
   "outputs": [],
   "source": [
    "y=df['Target']"
   ]
  },
  {
   "cell_type": "code",
   "execution_count": 121,
   "id": "ec658e86-75aa-48ef-9c64-ddf0998c0037",
   "metadata": {},
   "outputs": [],
   "source": [
    "from sklearn.model_selection import train_test_split\n",
    "X_train,X_test,y_train,y_test=train_test_split(X_,y,test_size=0.2)"
   ]
  },
  {
   "cell_type": "code",
   "execution_count": 123,
   "id": "9575a14e-adf2-4b9b-bebf-add7646411fc",
   "metadata": {},
   "outputs": [],
   "source": [
    "from sklearn.naive_bayes import GaussianNB,ComplementNB,MultinomialNB,BernoulliNB\n",
    "from sklearn.metrics import accuracy_score,precision_score\n",
    "gnb=GaussianNB()\n",
    "mnb=MultinomialNB()\n",
    "bnb=BernoulliNB()\n",
    "cnb=ComplementNB()"
   ]
  },
  {
   "cell_type": "code",
   "execution_count": 125,
   "id": "2148aa8c-21f4-46f1-928e-01b8231517d8",
   "metadata": {},
   "outputs": [],
   "source": [
    "model1=gnb.fit(X_train,y_train)\n",
    "model2=mnb.fit(X_train,y_train)\n",
    "model3=bnb.fit(X_train,y_train)\n",
    "model4=cnb.fit(X_train,y_train)\n",
    "y_pred1=model1.predict(X_test)\n",
    "y_pred2=model2.predict(X_test)\n",
    "y_pred3=model3.predict(X_test)\n",
    "y_pred4=model4.predict(X_test)"
   ]
  },
  {
   "cell_type": "code",
   "execution_count": 127,
   "id": "ae7438a5-3c62-48b1-8545-266070dd7890",
   "metadata": {},
   "outputs": [
    {
     "name": "stdout",
     "output_type": "stream",
     "text": [
      "GNB:\n",
      "accuracy: 0.6779497098646035 \n",
      "precision_score: 0.9523809523809523\n",
      "\n",
      "MNB:\n",
      "accuracy: 0.9680851063829787 \n",
      "precision_score: 0.780952380952381\n",
      "\n",
      "BNB:\n",
      "accuracy: 0.9806576402321083 \n",
      "precision_score: 0.8857142857142857\n",
      "\n",
      "CNB:\n",
      "accuracy: 0.9294003868471954 \n",
      "precision_score: 0.9523809523809523\n"
     ]
    }
   ],
   "source": [
    "print('GNB:\\naccuracy:',accuracy_score(y_pred1,y_test),'\\nprecision_score:',precision_score(y_pred1,y_test))\n",
    "print('\\nMNB:\\naccuracy:',accuracy_score(y_pred2,y_test),'\\nprecision_score:',precision_score(y_pred2,y_test))\n",
    "print('\\nBNB:\\naccuracy:',accuracy_score(y_pred3,y_test),'\\nprecision_score:',precision_score(y_pred3,y_test))\n",
    "print('\\nCNB:\\naccuracy:',accuracy_score(y_pred4,y_test),'\\nprecision_score:',precision_score(y_pred4,y_test))"
   ]
  },
  {
   "cell_type": "markdown",
   "id": "4cd64af0-2877-4f58-8764-8ade1f94f9ac",
   "metadata": {},
   "source": [
    "CNB model is chosen with Tfiidfvectorizer as in case of Email classifier, type-1 error reduction is important and hence a higher precision score is more important rather than accuracy.\n"
   ]
  },
  {
   "cell_type": "code",
   "execution_count": 150,
   "id": "2f184308-3591-40a7-8743-73b345fd834a",
   "metadata": {},
   "outputs": [],
   "source": [
    "#including number of words as a feature\n",
    "X3=cv.fit_transform(df['Text']).toarray()\n",
    "X3=np.hstack((X3, df['num_words'].values.reshape(-1,1)))\n",
    "X3_=tfid.fit_transform(df['Text']).toarray()\n",
    "X3_=np.hstack((X, df['num_words'].values.reshape(-1,1)))"
   ]
  },
  {
   "cell_type": "code",
   "execution_count": 156,
   "id": "287d88ae-131f-4056-b142-6f822b1fd6ff",
   "metadata": {},
   "outputs": [
    {
     "name": "stdout",
     "output_type": "stream",
     "text": [
      "GNB:\n",
      "accuracy: 0.8762088974854932 \n",
      "precision_score: 0.9137931034482759\n",
      "\n",
      "MNB:\n",
      "accuracy: 0.9796905222437138 \n",
      "precision_score: 0.9310344827586207\n",
      "\n",
      "BNB:\n",
      "accuracy: 0.9748549323017408 \n",
      "precision_score: 0.8189655172413793\n",
      "\n",
      "CNB:\n",
      "accuracy: 0.9574468085106383 \n",
      "precision_score: 0.9310344827586207\n"
     ]
    }
   ],
   "source": [
    "from sklearn.model_selection import train_test_split\n",
    "X_train,X_test,y_train,y_test=train_test_split(X3,y,test_size=0.2)\n",
    "model1=gnb.fit(X_train,y_train)\n",
    "model2=mnb.fit(X_train,y_train)\n",
    "model3=bnb.fit(X_train,y_train)\n",
    "model4=cnb.fit(X_train,y_train)\n",
    "y_pred1=model1.predict(X_test)\n",
    "y_pred2=model2.predict(X_test)\n",
    "y_pred3=model3.predict(X_test)\n",
    "y_pred4=model4.predict(X_test)\n",
    "print('GNB:\\naccuracy:',accuracy_score(y_pred1,y_test),'\\nprecision_score:',precision_score(y_pred1,y_test))\n",
    "print('\\nMNB:\\naccuracy:',accuracy_score(y_pred2,y_test),'\\nprecision_score:',precision_score(y_pred2,y_test))\n",
    "print('\\nBNB:\\naccuracy:',accuracy_score(y_pred3,y_test),'\\nprecision_score:',precision_score(y_pred3,y_test))\n",
    "print('\\nCNB:\\naccuracy:',accuracy_score(y_pred4,y_test),'\\nprecision_score:',precision_score(y_pred4,y_test))"
   ]
  },
  {
   "cell_type": "markdown",
   "id": "26a8547e-70ca-494d-b0a5-4af0afb35475",
   "metadata": {},
   "source": [
    "Still CNB with only the text data is giving better precision score hence we finalize CNB-TfidfVectorizer with max features 4000"
   ]
  },
  {
   "cell_type": "code",
   "execution_count": null,
   "id": "68a52fda-5b32-4362-ab11-e55e76899699",
   "metadata": {},
   "outputs": [],
   "source": []
  }
 ],
 "metadata": {
  "kernelspec": {
   "display_name": "Python 3 (ipykernel)",
   "language": "python",
   "name": "python3"
  },
  "language_info": {
   "codemirror_mode": {
    "name": "ipython",
    "version": 3
   },
   "file_extension": ".py",
   "mimetype": "text/x-python",
   "name": "python",
   "nbconvert_exporter": "python",
   "pygments_lexer": "ipython3",
   "version": "3.12.4"
  }
 },
 "nbformat": 4,
 "nbformat_minor": 5
}
